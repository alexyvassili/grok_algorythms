{
 "cells": [
  {
   "cell_type": "markdown",
   "metadata": {},
   "source": [
    "# Пет проект"
   ]
  },
  {
   "cell_type": "markdown",
   "metadata": {},
   "source": [
    "Не нужно давно думать, нужно взять и приступать)\n",
    "Пет проект — например **форум**, где есть:\n",
    "1. регистрация (с подтверждением почты по е-мейлу),\n",
    "2. авторизация,\n",
    "3. категории, топики и в них сообщения,\n",
    "4. личные сообщения между пользователями, с уведомлением о них по sms (найдите веб-сервис, который позволяет это сделать),\n",
    "5. Ессно пользователь должен иметь возможность поставить себе аватарку,\n",
    "6. и чтобы можно было смотреть профили других пользователей,\n",
    "7. В качестве усложнения — можете сообщения в топиках сделать древовидными (как на этом форуме) *(неее)*\n",
    "\n",
    "Ну и еще что захотите на своё усмотрение\n",
    "Если сделаете такое сами — джун позиция обеспечена ИМХО"
   ]
  },
  {
   "cell_type": "code",
   "execution_count": null,
   "metadata": {
    "collapsed": true
   },
   "outputs": [],
   "source": []
  }
 ],
 "metadata": {
  "kernelspec": {
   "display_name": "Python 3",
   "language": "python",
   "name": "python3"
  },
  "language_info": {
   "codemirror_mode": {
    "name": "ipython",
    "version": 3
   },
   "file_extension": ".py",
   "mimetype": "text/x-python",
   "name": "python",
   "nbconvert_exporter": "python",
   "pygments_lexer": "ipython3",
   "version": "3.6.3"
  }
 },
 "nbformat": 4,
 "nbformat_minor": 2
}
